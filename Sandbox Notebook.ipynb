{
 "cells": [
  {
   "cell_type": "markdown",
   "metadata": {},
   "source": [
    "# King County Airbnb"
   ]
  },
  {
   "cell_type": "markdown",
   "metadata": {},
   "source": [
    "## Overview\n",
    "\n",
    "A one-paragraph overview of the project, including the business problem, data, methods, results and recommendations."
   ]
  },
  {
   "cell_type": "markdown",
   "metadata": {},
   "source": [
    "Airbnb Musketeers LLC was founded to help aspiring Airbnb owners to purchase a house in order to start up their Airbnb business. Arthur Macintosh, a local businessman, reached out to our company and asked for us to help him purchase a home in King County, Washington. Mr. Macintosh had specified that he wanted his house in King County to have at least 3 bedrooms, and 2 bathrooms, a view, and for it to be under $750,000. The goal of this data analysis is to give Mr.Macintosh recommendations on what houses he should consider with the specifications that he gave us. The data that we used originally consisted of 21,597 houses that were built between 1900 and 2015. We narrowed that number by dropping nulls which brought the data to 15,762 houses. We further narrowed that number by dropping houses that had more than 5 bedrooms in order get rid of outliers which left us with 14,342 houses. After all of those reductions we were left with roughly 2/3 of the data to work with. The methods we used to clean our data and. create our models were train-test-split, OLS models, removing irrelevant data, filtering unwanted outliers, handling missing data.  After a deep analysis of our data we came to the conclusion that he ________ based on ______ results. "
   ]
  },
  {
   "cell_type": "markdown",
   "metadata": {},
   "source": [
    "## Business Problem\n",
    "\n",
    "Mr.Macintosh wants to buy a house so that he can be in the Airbnb business. He is set on the amount of money that he is willing to invest in the purchase of the house. Our predictions are important in order to be able to help Mr.Macintosh to not go over budget. This is not the only house that we are helping him purchase which is why it is important that we find a house with the requirements he set in order for him to be able to price the rental of the home at a rate that generates him the most profit. If he goes over budget that would mean less amount of money that he can spend on the other houses he is also interested on buying outside of King County, Washington. \n",
    "\n",
    "- Who are your stakeholders?\n",
    "- What are your stakeholders' main points related to this project?\n",
    "- Why are your predictions important from a business perspective?"
   ]
  },
  {
   "cell_type": "markdown",
   "metadata": {},
   "source": [
    "## Data Understanding\n",
    "\n",
    "Describe the data being used for this project.\n",
    "The data that we are using came from the King County Houses database. The data relates to our analysis question because it contains all the data that we need in order to be able to deliver to Mr.Macintosh the types of houses that he should consider buying based on his prerequisites. The main target variable is price. Other variables that we intend to use are bedrooms, bathrooms, sqft_living (Square footage of living space in the home), floor (Number of floors levels in house), zip code, and view(Quality of view from house). Cleaned up the data by removing irrelevant data, filtering unwanted outliers, scaling, and handling missing data. \n",
    "\n",
    "Questions to consider:\n",
    "\n",
    "- Where did the data come from, and how do they relate to the data analysis questions?\n",
    "- What do the data represent? Who is in the sample and what variables are included?\n",
    "- What is the target variable?\n",
    "- What are the properties of the variables you intend to use?\n",
    "- Cleaned up data by \n",
    "    - \n",
    "- Scaled data \n",
    "- Determined business model \n",
    "- Examined individual relationships with price and create visualizations "
   ]
  },
  {
   "cell_type": "markdown",
   "metadata": {},
   "source": [
    "# Imports "
   ]
  },
  {
   "cell_type": "code",
   "execution_count": 49,
   "metadata": {},
   "outputs": [],
   "source": [
    "import pandas as pd \n",
    "from IPython.display import Markdown, display\n",
    "import itertools\n",
    "import numpy as np\n",
    "from numbers import Number\n",
    "from scipy import stats\n",
    "import matplotlib.pyplot as plt \n",
    "import seaborn as sns\n",
    "import statsmodels \n",
    "import statsmodels.api as sm \n",
    "import pickle \n",
    "from sklearn.preprocessing import OneHotEncoder\n",
    "from sklearn.compose import ColumnTransformer\n",
    "from sklearn.preprocessing import MinMaxScaler, StandardScaler\n",
    "from sklearn.model_selection import train_test_split"
   ]
  },
  {
   "cell_type": "markdown",
   "metadata": {},
   "source": [
    "# Data Clean Up"
   ]
  },
  {
   "cell_type": "code",
   "execution_count": null,
   "metadata": {},
   "outputs": [],
   "source": []
  },
  {
   "cell_type": "markdown",
   "metadata": {},
   "source": [
    "## Data Preparation\n",
    "\n",
    "Describe and justify the process for preparing the data for analysis.\n",
    "\n",
    "Questions to consider:\n",
    "- What variables were kept?\n",
    "    - price \n",
    "    - bedrooms\n",
    "    - bathrooms\n",
    "    - sqft_living\n",
    "    - floor\n",
    "    - zip code\n",
    "    - view\n",
    "- Were there variables you dropped or created?\n",
    "    - id \n",
    "    - date \n",
    "    - sqft_lot\n",
    "    - waterfront\n",
    "    - condition\n",
    "    - grade\n",
    "    - sqft_above\n",
    "    - sqft_basement\n",
    "    - yr_ renovated\n",
    "    - lat\n",
    "    - long \n",
    "    - sqft_living15\n",
    "    - sqft_lot15\n",
    "- How did you address missing values or outliers?\n",
    "    - We dropped null values including question marks. \n",
    "- Why are these choices appropriate given the data and the business problem?\n",
    "    - It was appropriate to drop the variables above because they did not have \n",
    "      numeric values and would not fit in our model \n",
    "- How much of the data have we dropped?\n",
    "    - We narrowed that number by dropping nulls which brought the data to 15,762 houses. We further narrowed that number by dropping houses that had more than 5 bedrooms in order get rid of outliers which left us with 14,342 houses. After all of those reductions we were left we dropped 1/3 of the data leaving us with roughly 2/3 of the data to work with. "
   ]
  },
  {
   "cell_type": "markdown",
   "metadata": {},
   "source": [
    "## Modeling\n",
    "\n",
    "Describe and justify the process for analyzing or modeling the data.\n",
    "\n",
    "Questions to consider:\n",
    "\n",
    "- How did you analyze the data to arrive at an initial approach?\n",
    "- How did you iterate on your initial approach to make it better?\n",
    "- Why are these choices appropriate given the data and the business problem?"
   ]
  },
  {
   "cell_type": "code",
   "execution_count": null,
   "metadata": {},
   "outputs": [],
   "source": []
  },
  {
   "cell_type": "markdown",
   "metadata": {},
   "source": [
    "## Evaluation\n",
    "\n",
    "The evaluation of each model should accompany the creation of each model, and you should be sure to evaluate your models consistently.\n",
    "\n",
    "Evaluate how well your work solves the stated business problem. \n",
    "\n",
    "Questions to consider:\n",
    "\n",
    "- How do you interpret the results?\n",
    "- How well does your model fit your data? How much better is this than your baseline model? Is it over or under fit?\n",
    "- How well does your model/data fit any modeling assumptions?\n",
    "\n",
    "For the final model, you might also consider:\n",
    "\n",
    "- How confident are you that your results would generalize beyond the data you have?\n",
    "- How confident are you that this model would benefit the business if put into use?"
   ]
  },
  {
   "cell_type": "code",
   "execution_count": null,
   "metadata": {},
   "outputs": [],
   "source": []
  },
  {
   "cell_type": "markdown",
   "metadata": {},
   "source": [
    "### Baseline Understanding\n",
    "\n",
    "- What does a baseline, model-less prediction look like?"
   ]
  },
  {
   "cell_type": "code",
   "execution_count": null,
   "metadata": {},
   "outputs": [],
   "source": []
  },
  {
   "cell_type": "markdown",
   "metadata": {},
   "source": [
    "### First $&(@# Model\n",
    "\n",
    "Before going too far down the data preparation rabbit hole, be sure to check your work against a first 'substandard' model! What is the easiest way for you to find out how hard your problem is?"
   ]
  },
  {
   "cell_type": "code",
   "execution_count": null,
   "metadata": {},
   "outputs": [],
   "source": []
  },
  {
   "cell_type": "markdown",
   "metadata": {},
   "source": [
    "### Modeling Iterations\n",
    "\n",
    "Now you can start to use the results of your first model to iterate - there are many options!"
   ]
  },
  {
   "cell_type": "code",
   "execution_count": null,
   "metadata": {},
   "outputs": [],
   "source": []
  },
  {
   "cell_type": "markdown",
   "metadata": {},
   "source": [
    "### 'Final' Model\n",
    "\n",
    "In the end, you'll arrive at a 'final' model - aka the one you'll use to make your recommendations/conclusions. This likely blends any group work. It might not be the one with the highest scores, but instead might be considered 'final' or 'best' for other reasons."
   ]
  },
  {
   "cell_type": "code",
   "execution_count": null,
   "metadata": {},
   "outputs": [],
   "source": []
  },
  {
   "cell_type": "markdown",
   "metadata": {},
   "source": [
    "## Conclusions\n",
    "\n",
    "Provide your conclusions about the work you've done, including any limitations or next steps.\n",
    "\n",
    "Questions to consider:\n",
    "\n",
    "- What would you recommend the business do as a result of this work?\n",
    "    - We recommend that Mr.Macintosh purchase a home with a view in order to place him in the roughly 10% of home owners that own a house with a view. This perk would undoubtedly attract more people to rent his Airbnb in King County. \n",
    "    - Budget of ___\n",
    "    - recommendation (grade)\n",
    "    - lat and long as a recommendation?\n",
    "- What are some reasons why your analysis might not fully solve Mr.Macintosh's problem?\n",
    "    - The data that we used does not include the amount of houses that are used for Airbnb. Not knowing this piece of information does not let us know how much competition Mr.Macintosh will have in King County in the Airbnb business. \n",
    "    - \n",
    "- What else could you do in the future to improve this project (future work)?\n",
    "    - If we had data of local Airbnb "
   ]
  },
  {
   "cell_type": "code",
   "execution_count": null,
   "metadata": {},
   "outputs": [],
   "source": []
  }
 ],
 "metadata": {
  "kernelspec": {
   "display_name": "Python (learn-env)",
   "language": "python",
   "name": "learn-env"
  },
  "language_info": {
   "codemirror_mode": {
    "name": "ipython",
    "version": 3
   },
   "file_extension": ".py",
   "mimetype": "text/x-python",
   "name": "python",
   "nbconvert_exporter": "python",
   "pygments_lexer": "ipython3",
   "version": "3.8.5"
  }
 },
 "nbformat": 4,
 "nbformat_minor": 4
}
